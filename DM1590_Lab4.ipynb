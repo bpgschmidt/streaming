{
  "cells": [
    {
      "cell_type": "markdown",
      "metadata": {
        "id": "view-in-github",
        "colab_type": "text"
      },
      "source": [
        "<a href=\"https://colab.research.google.com/github/bpgschmidt/streaming/blob/main/DM1590_Lab4.ipynb\" target=\"_parent\"><img src=\"https://colab.research.google.com/assets/colab-badge.svg\" alt=\"Open In Colab\"/></a>"
      ]
    },
    {
      "cell_type": "markdown",
      "metadata": {
        "id": "LeMAah8frYSf"
      },
      "source": [
        "# **Lab 4**: Unsupervised Machine Learning\n",
        "In this lab you will practice some unsupervised machine learning, specifically performing Princpal Component Analysis on an interesting multidimensional dataset.\n",
        "\n",
        "You will also continue to practice programming in python, which you should now be quite comfortable doing.\n",
        "\n",
        "To pass this lab you must complete all parts marked with a \"*\". You can do more parts, of course, because in the end that will help you on your project!\n",
        "\n",
        "*HINT: See code that we have presented in class.*\n",
        "\n",
        "The following code loads a dataset of mean ratings for a variety of travel destinations from 5454 google review users. More information can be read here: http://archive.ics.uci.edu/ml/datasets/Tarvel+Review+Ratings#\n"
      ]
    },
    {
      "cell_type": "code",
      "execution_count": null,
      "metadata": {
        "id": "pcqc1DhiUYwQ"
      },
      "outputs": [],
      "source": [
        "# Helpful documentation to pandas: https://pandas.pydata.org/pandas-docs/stable/index.html\n",
        "import pandas as pd\n",
        "data = pd.read_csv('/content/sample_data/google_review_ratings-1.txt',sep=',')\n",
        "data = data.drop(columns=['userID'])\n",
        "data = data.drop(columns=['Unnamed: 25'])"
      ]
    },
    {
      "cell_type": "markdown",
      "metadata": {
        "id": "XLVlxwv2sUUH"
      },
      "source": [
        "# Part 1: Multivariate analysis\n",
        "\n",
        "# 1.1*\n",
        "\n",
        "Choose five different travel destinations and create a scatter plot matrix of the mean ratings for all users in the dataset. (Remember, the data is already mean ratings.)\n"
      ]
    },
    {
      "cell_type": "code",
      "execution_count": null,
      "metadata": {
        "colab": {
          "base_uri": "https://localhost:8080/",
          "height": 494
        },
        "id": "mJ8jcnYLrRN2",
        "outputId": "cd5d8941-ec10-451f-cc9f-d078d3a270af"
      },
      "outputs": [
        {
          "output_type": "error",
          "ename": "KeyError",
          "evalue": "ignored",
          "traceback": [
            "\u001b[0;31m---------------------------------------------------------------------------\u001b[0m",
            "\u001b[0;31mKeyError\u001b[0m                                  Traceback (most recent call last)",
            "\u001b[0;32m/usr/local/lib/python3.8/dist-packages/pandas/core/indexes/base.py\u001b[0m in \u001b[0;36mget_loc\u001b[0;34m(self, key, method, tolerance)\u001b[0m\n\u001b[1;32m   3360\u001b[0m             \u001b[0;32mtry\u001b[0m\u001b[0;34m:\u001b[0m\u001b[0;34m\u001b[0m\u001b[0;34m\u001b[0m\u001b[0m\n\u001b[0;32m-> 3361\u001b[0;31m                 \u001b[0;32mreturn\u001b[0m \u001b[0mself\u001b[0m\u001b[0;34m.\u001b[0m\u001b[0m_engine\u001b[0m\u001b[0;34m.\u001b[0m\u001b[0mget_loc\u001b[0m\u001b[0;34m(\u001b[0m\u001b[0mcasted_key\u001b[0m\u001b[0;34m)\u001b[0m\u001b[0;34m\u001b[0m\u001b[0;34m\u001b[0m\u001b[0m\n\u001b[0m\u001b[1;32m   3362\u001b[0m             \u001b[0;32mexcept\u001b[0m \u001b[0mKeyError\u001b[0m \u001b[0;32mas\u001b[0m \u001b[0merr\u001b[0m\u001b[0;34m:\u001b[0m\u001b[0;34m\u001b[0m\u001b[0;34m\u001b[0m\u001b[0m\n",
            "\u001b[0;32m/usr/local/lib/python3.8/dist-packages/pandas/_libs/index.pyx\u001b[0m in \u001b[0;36mpandas._libs.index.IndexEngine.get_loc\u001b[0;34m()\u001b[0m\n",
            "\u001b[0;32m/usr/local/lib/python3.8/dist-packages/pandas/_libs/index.pyx\u001b[0m in \u001b[0;36mpandas._libs.index.IndexEngine.get_loc\u001b[0;34m()\u001b[0m\n",
            "\u001b[0;32mpandas/_libs/hashtable_class_helper.pxi\u001b[0m in \u001b[0;36mpandas._libs.hashtable.PyObjectHashTable.get_item\u001b[0;34m()\u001b[0m\n",
            "\u001b[0;32mpandas/_libs/hashtable_class_helper.pxi\u001b[0m in \u001b[0;36mpandas._libs.hashtable.PyObjectHashTable.get_item\u001b[0;34m()\u001b[0m\n",
            "\u001b[0;31mKeyError\u001b[0m: 'data'",
            "\nThe above exception was the direct cause of the following exception:\n",
            "\u001b[0;31mKeyError\u001b[0m                                  Traceback (most recent call last)",
            "\u001b[0;32m<ipython-input-5-d02474ca21c2>\u001b[0m in \u001b[0;36m<module>\u001b[0;34m\u001b[0m\n\u001b[1;32m      4\u001b[0m \u001b[0;32mimport\u001b[0m \u001b[0msklearn\u001b[0m\u001b[0;34m\u001b[0m\u001b[0;34m\u001b[0m\u001b[0m\n\u001b[1;32m      5\u001b[0m \u001b[0;32mimport\u001b[0m \u001b[0mmatplotlib\u001b[0m\u001b[0;34m.\u001b[0m\u001b[0mpyplot\u001b[0m \u001b[0;32mas\u001b[0m \u001b[0mplt\u001b[0m\u001b[0;34m\u001b[0m\u001b[0;34m\u001b[0m\u001b[0m\n\u001b[0;32m----> 6\u001b[0;31m \u001b[0mX\u001b[0m \u001b[0;34m=\u001b[0m \u001b[0mdata\u001b[0m\u001b[0;34m[\u001b[0m\u001b[0;34m'data'\u001b[0m\u001b[0;34m]\u001b[0m\u001b[0;34m\u001b[0m\u001b[0;34m\u001b[0m\u001b[0m\n\u001b[0m\u001b[1;32m      7\u001b[0m \u001b[0mprint\u001b[0m\u001b[0;34m(\u001b[0m\u001b[0mX\u001b[0m\u001b[0;34m)\u001b[0m\u001b[0;34m\u001b[0m\u001b[0;34m\u001b[0m\u001b[0m\n\u001b[1;32m      8\u001b[0m \u001b[0mY\u001b[0m \u001b[0;34m=\u001b[0m \u001b[0mdata\u001b[0m\u001b[0;34m[\u001b[0m\u001b[0;34m'userID'\u001b[0m\u001b[0;34m]\u001b[0m\u001b[0;34m\u001b[0m\u001b[0;34m\u001b[0m\u001b[0m\n",
            "\u001b[0;32m/usr/local/lib/python3.8/dist-packages/pandas/core/frame.py\u001b[0m in \u001b[0;36m__getitem__\u001b[0;34m(self, key)\u001b[0m\n\u001b[1;32m   3456\u001b[0m             \u001b[0;32mif\u001b[0m \u001b[0mself\u001b[0m\u001b[0;34m.\u001b[0m\u001b[0mcolumns\u001b[0m\u001b[0;34m.\u001b[0m\u001b[0mnlevels\u001b[0m \u001b[0;34m>\u001b[0m \u001b[0;36m1\u001b[0m\u001b[0;34m:\u001b[0m\u001b[0;34m\u001b[0m\u001b[0;34m\u001b[0m\u001b[0m\n\u001b[1;32m   3457\u001b[0m                 \u001b[0;32mreturn\u001b[0m \u001b[0mself\u001b[0m\u001b[0;34m.\u001b[0m\u001b[0m_getitem_multilevel\u001b[0m\u001b[0;34m(\u001b[0m\u001b[0mkey\u001b[0m\u001b[0;34m)\u001b[0m\u001b[0;34m\u001b[0m\u001b[0;34m\u001b[0m\u001b[0m\n\u001b[0;32m-> 3458\u001b[0;31m             \u001b[0mindexer\u001b[0m \u001b[0;34m=\u001b[0m \u001b[0mself\u001b[0m\u001b[0;34m.\u001b[0m\u001b[0mcolumns\u001b[0m\u001b[0;34m.\u001b[0m\u001b[0mget_loc\u001b[0m\u001b[0;34m(\u001b[0m\u001b[0mkey\u001b[0m\u001b[0;34m)\u001b[0m\u001b[0;34m\u001b[0m\u001b[0;34m\u001b[0m\u001b[0m\n\u001b[0m\u001b[1;32m   3459\u001b[0m             \u001b[0;32mif\u001b[0m \u001b[0mis_integer\u001b[0m\u001b[0;34m(\u001b[0m\u001b[0mindexer\u001b[0m\u001b[0;34m)\u001b[0m\u001b[0;34m:\u001b[0m\u001b[0;34m\u001b[0m\u001b[0;34m\u001b[0m\u001b[0m\n\u001b[1;32m   3460\u001b[0m                 \u001b[0mindexer\u001b[0m \u001b[0;34m=\u001b[0m \u001b[0;34m[\u001b[0m\u001b[0mindexer\u001b[0m\u001b[0;34m]\u001b[0m\u001b[0;34m\u001b[0m\u001b[0;34m\u001b[0m\u001b[0m\n",
            "\u001b[0;32m/usr/local/lib/python3.8/dist-packages/pandas/core/indexes/base.py\u001b[0m in \u001b[0;36mget_loc\u001b[0;34m(self, key, method, tolerance)\u001b[0m\n\u001b[1;32m   3361\u001b[0m                 \u001b[0;32mreturn\u001b[0m \u001b[0mself\u001b[0m\u001b[0;34m.\u001b[0m\u001b[0m_engine\u001b[0m\u001b[0;34m.\u001b[0m\u001b[0mget_loc\u001b[0m\u001b[0;34m(\u001b[0m\u001b[0mcasted_key\u001b[0m\u001b[0;34m)\u001b[0m\u001b[0;34m\u001b[0m\u001b[0;34m\u001b[0m\u001b[0m\n\u001b[1;32m   3362\u001b[0m             \u001b[0;32mexcept\u001b[0m \u001b[0mKeyError\u001b[0m \u001b[0;32mas\u001b[0m \u001b[0merr\u001b[0m\u001b[0;34m:\u001b[0m\u001b[0;34m\u001b[0m\u001b[0;34m\u001b[0m\u001b[0m\n\u001b[0;32m-> 3363\u001b[0;31m                 \u001b[0;32mraise\u001b[0m \u001b[0mKeyError\u001b[0m\u001b[0;34m(\u001b[0m\u001b[0mkey\u001b[0m\u001b[0;34m)\u001b[0m \u001b[0;32mfrom\u001b[0m \u001b[0merr\u001b[0m\u001b[0;34m\u001b[0m\u001b[0;34m\u001b[0m\u001b[0m\n\u001b[0m\u001b[1;32m   3364\u001b[0m \u001b[0;34m\u001b[0m\u001b[0m\n\u001b[1;32m   3365\u001b[0m         \u001b[0;32mif\u001b[0m \u001b[0mis_scalar\u001b[0m\u001b[0;34m(\u001b[0m\u001b[0mkey\u001b[0m\u001b[0;34m)\u001b[0m \u001b[0;32mand\u001b[0m \u001b[0misna\u001b[0m\u001b[0;34m(\u001b[0m\u001b[0mkey\u001b[0m\u001b[0;34m)\u001b[0m \u001b[0;32mand\u001b[0m \u001b[0;32mnot\u001b[0m \u001b[0mself\u001b[0m\u001b[0;34m.\u001b[0m\u001b[0mhasnans\u001b[0m\u001b[0;34m:\u001b[0m\u001b[0;34m\u001b[0m\u001b[0;34m\u001b[0m\u001b[0m\n",
            "\u001b[0;31mKeyError\u001b[0m: 'data'"
          ]
        }
      ],
      "source": [
        "# add your code below\n",
        "\n",
        "import numpy as np\n",
        "import sklearn\n",
        "import matplotlib.pyplot as plt\n",
        "X = data['data']\n",
        "print(X)\n",
        "Y = data['userID']\n",
        "\n",
        "# create dataframe from data in X_train\n",
        "# label the columns using the strings in iris_dataset.feature_names\n",
        "iris_dataframe = pd.DataFrame(X, columnsd=data.feature_names)\n",
        "# create a scatter matrix from the dataframe, color by y_train\n",
        "pd.plotting.scatter_matrix(iris_dataframe, c=Y, figsize=(10, 10),\n",
        "                           marker='o', hist_kwds={'bins': 20}, s=60,\n",
        "                           alpha=.8, cmap=plt.cm.brg, label=list(data.target_names))\n",
        "\n",
        "handles = [plt.plot([],[],color=plt.cm.brg(i/2.), ls=\"\", marker=\".\",\n",
        "                    markersize=10)[0] for i in range(3)]\n",
        "plt.legend(handles, list(data.target_names), loc=(1.02,0))\n",
        "plt.show()"
      ]
    },
    {
      "cell_type": "markdown",
      "metadata": {
        "id": "ydaRre1erROF"
      },
      "source": [
        "# 1.2*\n",
        "\n",
        "What kinds of interesting relationships do you see between the pairs of dimensions you have chosen?\n",
        "\n",
        "**Answer**:\n",
        "-"
      ]
    },
    {
      "cell_type": "markdown",
      "metadata": {
        "id": "V2vuG8YrrROO"
      },
      "source": [
        "# 1.3*\n",
        "\n",
        "Compute and plot the Pearson correlation coefficient matrix for all dimensions in the dataset. Remember, element $ij$ in the Pearson correlation coeffient matrix is equal to the covariance between dimension $i$ and $j$ divided by the standard deviations seen in the two dimensions. (If your numbers in the matrix are not between -1 and 1 then you have made a mistake.)"
      ]
    },
    {
      "cell_type": "code",
      "execution_count": null,
      "metadata": {
        "id": "UNlTWJXWrROR"
      },
      "outputs": [],
      "source": [
        "# add your code below\n"
      ]
    },
    {
      "cell_type": "markdown",
      "metadata": {
        "id": "1W0Lqomgtvv3"
      },
      "source": [
        "# 1.4*\n",
        "\n",
        "How do the results in 1.3 confirm your observations in 1.2?\n",
        "\n",
        "**Answer**:\n",
        "-"
      ]
    },
    {
      "cell_type": "markdown",
      "metadata": {
        "id": "d1FvQUWrrROX"
      },
      "source": [
        "# 1.5*\n",
        "\n",
        "From the results in 1.3, identify the four pairs of dimensions that have the largest magnitude correlation and make a scatter plot matrix of them."
      ]
    },
    {
      "cell_type": "code",
      "execution_count": null,
      "metadata": {
        "id": "AnazQW7VrROa"
      },
      "outputs": [],
      "source": [
        "# add your code below\n"
      ]
    },
    {
      "cell_type": "markdown",
      "metadata": {
        "id": "L356li0XuWuB"
      },
      "source": [
        "# 1.6*\n",
        "\n",
        "From 1.4 and 1.5, try to explain why some of these dimensions may be so correlated.\n",
        "\n",
        "**Answer**:\n",
        "-\n",
        "\n"
      ]
    },
    {
      "cell_type": "markdown",
      "metadata": {
        "id": "JlWifYcmrROh"
      },
      "source": [
        "# 1.7*\n",
        "\n",
        "Compute the covariance matrix $\\mathbf{C}$ of the dimensions in the dataset, and perform an eigenvector decomposition of it, $\\mathbf{C} = \\mathbf{Q}\\mathbf{\\Lambda}\\mathbf{Q}^T$. Plot the eigenvalues, i.e., the diagonal elements of $\\mathbf{\\Lambda}$."
      ]
    },
    {
      "cell_type": "code",
      "execution_count": null,
      "metadata": {
        "id": "6-5FBL4mrROj"
      },
      "outputs": [],
      "source": [
        "# add your code below\n"
      ]
    },
    {
      "cell_type": "markdown",
      "metadata": {
        "id": "F55B_nP_vGrN"
      },
      "source": [
        "# 1.8*\n",
        "\n",
        "Plot the two eigenvectors in $\\mathbf{Q}$ having the largest eigenvalues, and label the x-axis with the appropriate dimensions.\n"
      ]
    },
    {
      "cell_type": "code",
      "execution_count": null,
      "metadata": {
        "id": "Cz-mBToyyYll"
      },
      "outputs": [],
      "source": [
        "# add your code below\n",
        "\n"
      ]
    },
    {
      "cell_type": "markdown",
      "metadata": {
        "id": "qZrqEb4Dz2SC"
      },
      "source": [
        "# 1.9*\n",
        "\n",
        "Project the mean-centered observations of the dataset onto the two eigenvectors you found in 1.8, and make a scatter plot of the results. That is, compute the mean vector of the entire dataset $\\boldsymbol{\\mu}$, then for each observation $\\mathbf{x}_n$ compute $\\mathbf{y}_n = \\mathbf{Q}^T[\\mathbf{x}_n - \\boldsymbol{\\mu}]$, and plot a point located as the coordinates of the first two dimensions of $\\mathbf{y}_n$.\n",
        "\n",
        "On top of the scatter plot, create lines from the origin to the point $([\\mathbf{q}_1]_d, [\\mathbf{q}_2]_d)$ for each dimension $d$. (The notation $[\\mathbf{x}]_d$ refers to the value in the $d$th dimension of $\\mathbf{x}$.)\n",
        "\n",
        "For guidance, my figure looks like this:\n",
        "![Screenshot%202021-02-15%20at%2014.05.28.png](attachment:Screenshot%202021-02-15%20at%2014.05.28.png)\n",
        "\n",
        "WARNING: Your figure may appear flipped, which is ok. Just a difference in the implementation of PCA based on the computer OS."
      ]
    },
    {
      "cell_type": "code",
      "execution_count": null,
      "metadata": {
        "id": "pYXcbFUiz2SK"
      },
      "outputs": [],
      "source": [
        "# add your code below\n"
      ]
    },
    {
      "cell_type": "markdown",
      "metadata": {
        "id": "Pwwof308S6-x"
      },
      "source": [
        "# 1.10*\n",
        "\n",
        "Find those data records with projections onto the first principal direction of between [-6,-4] and onto the second principal direction of [4,6], and plot their feature vectors on top one another.\n",
        "\n",
        "IF your picture appears flipped to mine, and you see no data records in the box specified above, then look at the points with projections onto the first principal direction of between [4,6] and between [-6,-4] onto the second principal direction."
      ]
    },
    {
      "cell_type": "code",
      "execution_count": null,
      "metadata": {
        "id": "OWwG2Zm8CKCY"
      },
      "outputs": [],
      "source": [
        "# add your code below\n"
      ]
    },
    {
      "cell_type": "markdown",
      "metadata": {
        "id": "mqkC9OKg936O"
      },
      "source": [
        "# 1.11*\n",
        "\n",
        "What can you say about the users in this part of the principal component space?\n",
        "\n",
        "**Answer**:"
      ]
    },
    {
      "cell_type": "markdown",
      "metadata": {
        "id": "uQZg8uFX3PMW"
      },
      "source": [
        "# 1.12\n",
        "\n",
        "One thing that has been overlooked in the above is that not all users have rated all destinations. Hence some users have \"0\" in those dimensions, when \"1\" is the lowest rating possible. How can this information be taken into account in an analysis of the users contained in this dataset?\n",
        "\n",
        "**Answer**:"
      ]
    },
    {
      "cell_type": "code",
      "execution_count": null,
      "metadata": {
        "id": "RTQPLXWGIEl1"
      },
      "outputs": [],
      "source": []
    }
  ],
  "metadata": {
    "colab": {
      "provenance": [],
      "include_colab_link": true
    },
    "kernelspec": {
      "display_name": "Python 3",
      "language": "python",
      "name": "python3"
    },
    "language_info": {
      "codemirror_mode": {
        "name": "ipython",
        "version": 3
      },
      "file_extension": ".py",
      "mimetype": "text/x-python",
      "name": "python",
      "nbconvert_exporter": "python",
      "pygments_lexer": "ipython3",
      "version": "3.10.1"
    },
    "vscode": {
      "interpreter": {
        "hash": "aee8b7b246df8f9039afb4144a1f6fd8d2ca17a180786b69acc140d282b71a49"
      }
    }
  },
  "nbformat": 4,
  "nbformat_minor": 0
}